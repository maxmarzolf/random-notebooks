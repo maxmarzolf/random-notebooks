{
 "cells": [
  {
   "cell_type": "code",
   "execution_count": 1,
   "metadata": {},
   "outputs": [],
   "source": [
    "import pandas as pd"
   ]
  },
  {
   "cell_type": "code",
   "execution_count": 2,
   "metadata": {},
   "outputs": [
    {
     "data": {
      "text/html": [
       "<div>\n",
       "<style scoped>\n",
       "    .dataframe tbody tr th:only-of-type {\n",
       "        vertical-align: middle;\n",
       "    }\n",
       "\n",
       "    .dataframe tbody tr th {\n",
       "        vertical-align: top;\n",
       "    }\n",
       "\n",
       "    .dataframe thead th {\n",
       "        text-align: right;\n",
       "    }\n",
       "</style>\n",
       "<table border=\"1\" class=\"dataframe\">\n",
       "  <thead>\n",
       "    <tr style=\"text-align: right;\">\n",
       "      <th></th>\n",
       "      <th>Date</th>\n",
       "      <th>Flight Number</th>\n",
       "      <th>Type of Glider</th>\n",
       "      <th>License Number</th>\n",
       "      <th>Launch Method A/G/L</th>\n",
       "      <th>Release Altitude</th>\n",
       "      <th>Max Altitude</th>\n",
       "      <th>Location</th>\n",
       "      <th>Flight Training Received</th>\n",
       "      <th>Solo</th>\n",
       "      <th>Pilot in Command</th>\n",
       "      <th>Remarks</th>\n",
       "      <th>Instructor</th>\n",
       "    </tr>\n",
       "  </thead>\n",
       "  <tbody>\n",
       "    <tr>\n",
       "      <th>0</th>\n",
       "      <td>2019-07-06</td>\n",
       "      <td>1</td>\n",
       "      <td>SGS-233A</td>\n",
       "      <td>N17903</td>\n",
       "      <td>A</td>\n",
       "      <td>3700</td>\n",
       "      <td>6700</td>\n",
       "      <td>4NY8</td>\n",
       "      <td>0.8</td>\n",
       "      <td>NaN</td>\n",
       "      <td>NaN</td>\n",
       "      <td>Intro flight, thermalling, speed control, turn...</td>\n",
       "      <td>Evan H.</td>\n",
       "    </tr>\n",
       "    <tr>\n",
       "      <th>1</th>\n",
       "      <td>2019-07-07</td>\n",
       "      <td>2</td>\n",
       "      <td>SGS-233A</td>\n",
       "      <td>N65833</td>\n",
       "      <td>A</td>\n",
       "      <td>3700</td>\n",
       "      <td>3700</td>\n",
       "      <td>4NY8</td>\n",
       "      <td>0.3</td>\n",
       "      <td>NaN</td>\n",
       "      <td>NaN</td>\n",
       "      <td>Turns, turn coordination, intro to pattern and...</td>\n",
       "      <td>Evan H.</td>\n",
       "    </tr>\n",
       "    <tr>\n",
       "      <th>2</th>\n",
       "      <td>2019-07-07</td>\n",
       "      <td>3</td>\n",
       "      <td>SGS-233A</td>\n",
       "      <td>N65833</td>\n",
       "      <td>A</td>\n",
       "      <td>3700</td>\n",
       "      <td>3700</td>\n",
       "      <td>4NY8</td>\n",
       "      <td>0.3</td>\n",
       "      <td>NaN</td>\n",
       "      <td>NaN</td>\n",
       "      <td>Stalls, turning stalls, S wind landing, and as...</td>\n",
       "      <td>Evan H.</td>\n",
       "    </tr>\n",
       "    <tr>\n",
       "      <th>3</th>\n",
       "      <td>2019-07-09</td>\n",
       "      <td>4</td>\n",
       "      <td>SGS-233A</td>\n",
       "      <td>N65833</td>\n",
       "      <td>A</td>\n",
       "      <td>3700</td>\n",
       "      <td>3700</td>\n",
       "      <td>4NY8</td>\n",
       "      <td>0.3</td>\n",
       "      <td>NaN</td>\n",
       "      <td>NaN</td>\n",
       "      <td>T/O demo, tow demo, turns coordination</td>\n",
       "      <td>Evan H.</td>\n",
       "    </tr>\n",
       "    <tr>\n",
       "      <th>4</th>\n",
       "      <td>2019-07-09</td>\n",
       "      <td>5</td>\n",
       "      <td>SGS-233A</td>\n",
       "      <td>N65833</td>\n",
       "      <td>A</td>\n",
       "      <td>3700</td>\n",
       "      <td>3700</td>\n",
       "      <td>4NY8</td>\n",
       "      <td>0.3</td>\n",
       "      <td>NaN</td>\n",
       "      <td>NaN</td>\n",
       "      <td>Assisted tow, coordination looking good! Assis...</td>\n",
       "      <td>Evan H.</td>\n",
       "    </tr>\n",
       "    <tr>\n",
       "      <th>...</th>\n",
       "      <td>...</td>\n",
       "      <td>...</td>\n",
       "      <td>...</td>\n",
       "      <td>...</td>\n",
       "      <td>...</td>\n",
       "      <td>...</td>\n",
       "      <td>...</td>\n",
       "      <td>...</td>\n",
       "      <td>...</td>\n",
       "      <td>...</td>\n",
       "      <td>...</td>\n",
       "      <td>...</td>\n",
       "      <td>...</td>\n",
       "    </tr>\n",
       "    <tr>\n",
       "      <th>60</th>\n",
       "      <td>2019-10-25</td>\n",
       "      <td>61</td>\n",
       "      <td>SGS-233A</td>\n",
       "      <td>N17903</td>\n",
       "      <td>A</td>\n",
       "      <td>2700</td>\n",
       "      <td>2700</td>\n",
       "      <td>4NY8</td>\n",
       "      <td>NaN</td>\n",
       "      <td>0.1</td>\n",
       "      <td>0.1</td>\n",
       "      <td>Even better</td>\n",
       "      <td>NaN</td>\n",
       "    </tr>\n",
       "    <tr>\n",
       "      <th>61</th>\n",
       "      <td>2019-10-31</td>\n",
       "      <td>62</td>\n",
       "      <td>SGS-233A</td>\n",
       "      <td>N17903</td>\n",
       "      <td>A</td>\n",
       "      <td>3700</td>\n",
       "      <td>3700</td>\n",
       "      <td>4NY8</td>\n",
       "      <td>NaN</td>\n",
       "      <td>0.5</td>\n",
       "      <td>0.5</td>\n",
       "      <td>Landed short</td>\n",
       "      <td>NaN</td>\n",
       "    </tr>\n",
       "    <tr>\n",
       "      <th>62</th>\n",
       "      <td>2019-11-06</td>\n",
       "      <td>63</td>\n",
       "      <td>SGS-233A</td>\n",
       "      <td>N17903</td>\n",
       "      <td>A</td>\n",
       "      <td>3700</td>\n",
       "      <td>4500</td>\n",
       "      <td>4NY8</td>\n",
       "      <td>NaN</td>\n",
       "      <td>0.5</td>\n",
       "      <td>0.5</td>\n",
       "      <td>Good flight :)</td>\n",
       "      <td>NaN</td>\n",
       "    </tr>\n",
       "    <tr>\n",
       "      <th>63</th>\n",
       "      <td>2019-11-07</td>\n",
       "      <td>64</td>\n",
       "      <td>SGS-233A</td>\n",
       "      <td>N17903</td>\n",
       "      <td>A</td>\n",
       "      <td>3700</td>\n",
       "      <td>3700</td>\n",
       "      <td>4NY8</td>\n",
       "      <td>NaN</td>\n",
       "      <td>0.4</td>\n",
       "      <td>0.4</td>\n",
       "      <td>NaN</td>\n",
       "      <td>NaN</td>\n",
       "    </tr>\n",
       "    <tr>\n",
       "      <th>64</th>\n",
       "      <td>2019-11-07</td>\n",
       "      <td>65</td>\n",
       "      <td>SGS-233A</td>\n",
       "      <td>N17903</td>\n",
       "      <td>A</td>\n",
       "      <td>3700</td>\n",
       "      <td>3700</td>\n",
       "      <td>4NY8</td>\n",
       "      <td>NaN</td>\n",
       "      <td>0.4</td>\n",
       "      <td>0.4</td>\n",
       "      <td>NaN</td>\n",
       "      <td>NaN</td>\n",
       "    </tr>\n",
       "  </tbody>\n",
       "</table>\n",
       "<p>65 rows × 13 columns</p>\n",
       "</div>"
      ],
      "text/plain": [
       "         Date  Flight Number Type of Glider License Number  \\\n",
       "0  2019-07-06              1       SGS-233A         N17903   \n",
       "1  2019-07-07              2       SGS-233A         N65833   \n",
       "2  2019-07-07              3       SGS-233A         N65833   \n",
       "3  2019-07-09              4       SGS-233A         N65833   \n",
       "4  2019-07-09              5       SGS-233A         N65833   \n",
       "..        ...            ...            ...            ...   \n",
       "60 2019-10-25             61       SGS-233A         N17903   \n",
       "61 2019-10-31             62       SGS-233A         N17903   \n",
       "62 2019-11-06             63       SGS-233A         N17903   \n",
       "63 2019-11-07             64       SGS-233A         N17903   \n",
       "64 2019-11-07             65       SGS-233A         N17903   \n",
       "\n",
       "   Launch Method A/G/L  Release Altitude   Max Altitude Location  \\\n",
       "0                    A               3700          6700     4NY8   \n",
       "1                    A               3700          3700     4NY8   \n",
       "2                    A               3700          3700     4NY8   \n",
       "3                    A               3700          3700     4NY8   \n",
       "4                    A               3700          3700     4NY8   \n",
       "..                 ...                ...           ...      ...   \n",
       "60                   A               2700          2700     4NY8   \n",
       "61                   A               3700          3700     4NY8   \n",
       "62                   A               3700          4500     4NY8   \n",
       "63                   A               3700          3700     4NY8   \n",
       "64                   A               3700          3700     4NY8   \n",
       "\n",
       "    Flight Training Received  Solo  Pilot in Command  \\\n",
       "0                        0.8   NaN               NaN   \n",
       "1                        0.3   NaN               NaN   \n",
       "2                        0.3   NaN               NaN   \n",
       "3                        0.3   NaN               NaN   \n",
       "4                        0.3   NaN               NaN   \n",
       "..                       ...   ...               ...   \n",
       "60                       NaN   0.1               0.1   \n",
       "61                       NaN   0.5               0.5   \n",
       "62                       NaN   0.5               0.5   \n",
       "63                       NaN   0.4               0.4   \n",
       "64                       NaN   0.4               0.4   \n",
       "\n",
       "                                              Remarks Instructor   \n",
       "0   Intro flight, thermalling, speed control, turn...     Evan H.  \n",
       "1   Turns, turn coordination, intro to pattern and...     Evan H.  \n",
       "2   Stalls, turning stalls, S wind landing, and as...     Evan H.  \n",
       "3             T/O demo, tow demo, turns coordination      Evan H.  \n",
       "4   Assisted tow, coordination looking good! Assis...     Evan H.  \n",
       "..                                                ...         ...  \n",
       "60                                        Even better         NaN  \n",
       "61                                       Landed short         NaN  \n",
       "62                                     Good flight :)         NaN  \n",
       "63                                                NaN         NaN  \n",
       "64                                                NaN         NaN  \n",
       "\n",
       "[65 rows x 13 columns]"
      ]
     },
     "execution_count": 2,
     "metadata": {},
     "output_type": "execute_result"
    }
   ],
   "source": [
    "log_book = pd.read_excel('Glider Log Book.xlsx')\n",
    "log_book"
   ]
  },
  {
   "cell_type": "markdown",
   "metadata": {},
   "source": [
    "#### When trying to quantify the number of lessons I received from each instructor, I was unable to return the Instructor column."
   ]
  },
  {
   "cell_type": "code",
   "execution_count": 3,
   "metadata": {},
   "outputs": [
    {
     "data": {
      "text/plain": [
       "Index(['Date', 'Flight Number', 'Type of Glider', 'License Number',\n",
       "       'Launch Method A/G/L', 'Release Altitude ', 'Max Altitude', 'Location',\n",
       "       'Flight Training Received', 'Solo', 'Pilot in Command', 'Remarks',\n",
       "       'Instructor '],\n",
       "      dtype='object')"
      ]
     },
     "execution_count": 3,
     "metadata": {},
     "output_type": "execute_result"
    }
   ],
   "source": [
    "log_book.columns"
   ]
  },
  {
   "cell_type": "markdown",
   "metadata": {},
   "source": [
    "#### Shows a trailing whitespace on the Instructor column!"
   ]
  },
  {
   "cell_type": "code",
   "execution_count": 4,
   "metadata": {},
   "outputs": [],
   "source": [
    "formatted_columns = []\n",
    "for column in log_book.columns:\n",
    "    formatted_column = column.strip()\n",
    "    formatted_columns.append(formatted_column)\n",
    "log_book.columns = formatted_columns"
   ]
  },
  {
   "cell_type": "markdown",
   "metadata": {},
   "source": [
    "#### Double checking the columns are now formatted correctly"
   ]
  },
  {
   "cell_type": "code",
   "execution_count": 5,
   "metadata": {},
   "outputs": [
    {
     "data": {
      "text/plain": [
       "Index(['Date', 'Flight Number', 'Type of Glider', 'License Number',\n",
       "       'Launch Method A/G/L', 'Release Altitude', 'Max Altitude', 'Location',\n",
       "       'Flight Training Received', 'Solo', 'Pilot in Command', 'Remarks',\n",
       "       'Instructor'],\n",
       "      dtype='object')"
      ]
     },
     "execution_count": 5,
     "metadata": {},
     "output_type": "execute_result"
    }
   ],
   "source": [
    "log_book.columns"
   ]
  },
  {
   "cell_type": "code",
   "execution_count": 6,
   "metadata": {},
   "outputs": [],
   "source": [
    "instructors = log_book['Instructor']"
   ]
  },
  {
   "cell_type": "code",
   "execution_count": 7,
   "metadata": {},
   "outputs": [
    {
     "data": {
      "text/plain": [
       "Evan H.    28\n",
       "Joe M.      3\n",
       "Dave G.     3\n",
       "Ryan M.     2\n",
       "Heinz       1\n",
       "Tim W.      1\n",
       "Noah R.     1\n",
       "Name: Instructor, dtype: int64"
      ]
     },
     "execution_count": 7,
     "metadata": {},
     "output_type": "execute_result"
    }
   ],
   "source": [
    "instructor_count = instructors.value_counts()\n",
    "instructor_count"
   ]
  },
  {
   "cell_type": "markdown",
   "metadata": {},
   "source": [
    "#### Using a simple built in plot after getting each instructor's count"
   ]
  },
  {
   "cell_type": "code",
   "execution_count": 8,
   "metadata": {},
   "outputs": [
    {
     "data": {
      "text/plain": [
       "<matplotlib.axes._subplots.AxesSubplot at 0x7fdc21ac2be0>"
      ]
     },
     "execution_count": 8,
     "metadata": {},
     "output_type": "execute_result"
    },
    {
     "data": {
      "image/png": "[encoded data removed]",
      "text/plain": [
       "<Figure size 432x288 with 1 Axes>"
      ]
     },
     "metadata": {
      "needs_background": "light"
     },
     "output_type": "display_data"
    }
   ],
   "source": [
    "instructor_count.plot(kind='bar')"
   ]
  },
  {
   "cell_type": "markdown",
   "metadata": {},
   "source": [
    "#### It's good to have a core instructor, while throwing in different perspectives! "
   ]
  },
  {
   "cell_type": "code",
   "execution_count": null,
   "metadata": {},
   "outputs": [],
   "source": []
  }
 ],
 "metadata": {
  "kernelspec": {
   "display_name": "Python 3",
   "language": "python",
   "name": "python3"
  },
  "language_info": {
   "codemirror_mode": {
    "name": "ipython",
    "version": 3
   },
   "file_extension": ".py",
   "mimetype": "text/x-python",
   "name": "python",
   "nbconvert_exporter": "python",
   "pygments_lexer": "ipython3",
   "version": "3.8.3"
  }
 },
 "nbformat": 4,
 "nbformat_minor": 4
}
